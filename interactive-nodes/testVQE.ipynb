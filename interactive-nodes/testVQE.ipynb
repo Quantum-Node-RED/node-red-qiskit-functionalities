{
 "cells": [
  {
   "cell_type": "code",
   "execution_count": 1,
   "metadata": {},
   "outputs": [
    {
     "name": "stdout",
     "output_type": "stream",
     "text": [
      "{   'aux_operators_evaluated': None,\n",
      "    'cost_function_evals': 300,\n",
      "    'eigenvalue': -0.7029303679808687,\n",
      "    'optimal_circuit': <qiskit.circuit.library.n_local.efficient_su2.EfficientSU2 object at 0x12eebbc50>,\n",
      "    'optimal_parameters': {   ParameterVectorElement(θ[0]): -2.3720148109611765,\n",
      "                              ParameterVectorElement(θ[1]): -1.2567787912927977,\n",
      "                              ParameterVectorElement(θ[2]): -2.1494442248212,\n",
      "                              ParameterVectorElement(θ[3]): 3.3595259816647243,\n",
      "                              ParameterVectorElement(θ[4]): 0.1419643661375142,\n",
      "                              ParameterVectorElement(θ[5]): 1.8498330063239834,\n",
      "                              ParameterVectorElement(θ[6]): 2.9205804120054033,\n",
      "                              ParameterVectorElement(θ[7]): -1.7217815924311655,\n",
      "                              ParameterVectorElement(θ[8]): 1.6100564101895687,\n",
      "                              ParameterVectorElement(θ[9]): 1.5792393692480444,\n",
      "                              ParameterVectorElement(θ[10]): 1.07759343304817,\n",
      "                              ParameterVectorElement(θ[11]): -1.4344492714508643,\n",
      "                              ParameterVectorElement(θ[12]): 0.31388372249065877,\n",
      "                              ParameterVectorElement(θ[13]): 2.2849375198358923,\n",
      "                              ParameterVectorElement(θ[14]): 2.921893826159843,\n",
      "                              ParameterVectorElement(θ[15]): -0.6151827753101108},\n",
      "    'optimal_point': array([-2.37201481, -1.25677879, -2.14944422,  3.35952598,  0.14196437,\n",
      "        1.84983301,  2.92058041, -1.72178159,  1.61005641,  1.57923937,\n",
      "        1.07759343, -1.43444927,  0.31388372,  2.28493752,  2.92189383,\n",
      "       -0.61518278]),\n",
      "    'optimal_value': -0.7029303679808687,\n",
      "    'optimizer_evals': None,\n",
      "    'optimizer_result': <qiskit_algorithms.optimizers.optimizer.OptimizerResult object at 0x12e946790>,\n",
      "    'optimizer_time': 0.8169651031494141}\n"
     ]
    }
   ],
   "source": [
    "from qiskit.circuit.library import EfficientSU2\n",
    "from qiskit.quantum_info import SparsePauliOp\n",
    "from qiskit.primitives import Estimator\n",
    "from qiskit_algorithms import VQE\n",
    "from qiskit_algorithms.optimizers import COBYLA\n",
    "\n",
    "hamiltonian = SparsePauliOp.from_list(\n",
    "    [(\"YZ\", 0.3980), (\"ZI\", -0.3980), (\"ZZ\", -0.0113), (\"XY\", 0.1810)]\n",
    ")\n",
    "\n",
    "ansatz = EfficientSU2(2)\n",
    "optimizer = COBYLA(maxiter=300)\n",
    "estimator = Estimator()\n",
    "vqe = VQE(estimator, ansatz, optimizer)\n",
    "\n",
    "vqe_result = vqe.compute_minimum_eigenvalue(hamiltonian)\n",
    "\n",
    "print(vqe_result)\n"
   ]
  },
  {
   "cell_type": "code",
   "execution_count": 2,
   "metadata": {},
   "outputs": [
    {
     "name": "stdout",
     "output_type": "stream",
     "text": [
      "-0.7029303944595314\n"
     ]
    }
   ],
   "source": [
    "from numpy.linalg import eigvalsh\n",
    "solution_eigenvalue = min(eigvalsh(hamiltonian))\n",
    "print(solution_eigenvalue)"
   ]
  },
  {
   "cell_type": "code",
   "execution_count": 2,
   "metadata": {},
   "outputs": [
    {
     "name": "stdout",
     "output_type": "stream",
     "text": [
      "θ, ['θ[0]', 'θ[1]', 'θ[2]', 'θ[3]', 'θ[4]', 'θ[5]', 'θ[6]', 'θ[7]', 'θ[8]', 'θ[9]', 'θ[10]', 'θ[11]', 'θ[12]', 'θ[13]', 'θ[14]', 'θ[15]']\n",
      " message: Optimization terminated successfully.\n",
      " success: True\n",
      "  status: 1\n",
      "     fun: -0.7029303883253292\n",
      "       x: [ 4.759e+00  3.548e+00 ...  2.175e+00  3.858e+00]\n",
      "    nfev: 452\n",
      "   maxcv: 0.0\n"
     ]
    }
   ],
   "source": [
    "from qiskit.circuit import ParameterVector\n",
    "from qiskit.quantum_info import SparsePauliOp\n",
    "from qiskit import QuantumCircuit\n",
    "from qiskit.primitives import Estimator\n",
    "from scipy.optimize import minimize\n",
    "import numpy as np\n",
    "\n",
    "cost_history_dict = {\n",
    "    \"prev_vector\": None,\n",
    "    \"iters\": 0,\n",
    "    \"cost_history\": [],\n",
    "}\n",
    "def cost_func(params, ansatz, hamiltonian, estimator):\n",
    "    \"\"\"Return estimate of energy from estimator\n",
    "\n",
    "    Parameters:\n",
    "        params (ndarray): Array of ansatz parameters\n",
    "        ansatz (QuantumCircuit): Parameterized ansatz circuit\n",
    "        hamiltonian (SparsePauliOp): Operator representation of Hamiltonian\n",
    "        estimator (EstimatorV2): Estimator primitive instance\n",
    "        cost_history_dict: Dictionary for storing intermediate results\n",
    "\n",
    "    Returns:\n",
    "        float: Energy estimate\n",
    "    \"\"\"\n",
    "    result = estimator.run(circuits=ansatz, observables=hamiltonian, parameter_values=params).result()\n",
    "    energy = result.values[0]\n",
    "\n",
    "    cost_history_dict[\"iters\"] += 1\n",
    "    cost_history_dict[\"prev_vector\"] = params\n",
    "    cost_history_dict[\"cost_history\"].append(energy)\n",
    "\n",
    "    return energy\n",
    "\n",
    "pauli_list = [\"YZ\", \"ZI\", \"ZZ\", \"XX\"]\n",
    "coeffs = [0.3980, -0.3980, -0.0113, 0.1810]\n",
    "hamiltonian = SparsePauliOp(pauli_list, coeffs=coeffs)\n",
    "\n",
    "theta = ParameterVector('θ', 16)\n",
    "initial_params = 2 * np.pi * np.random.random(16)\n",
    "\n",
    "qc = QuantumCircuit(2)\n",
    "print(theta)\n",
    "# First layer of Ry and Rz gates\n",
    "qc.ry(theta[0], 0)\n",
    "qc.ry(theta[1], 1)\n",
    "qc.rz(theta[2], 0)\n",
    "qc.rz(theta[3], 1)\n",
    "\n",
    "# First entangling layer\n",
    "qc.cx(0, 1)\n",
    "\n",
    "# Second layer of Ry and Rz gates\n",
    "qc.ry(theta[4], 0)\n",
    "qc.ry(theta[5], 1)\n",
    "qc.rz(theta[6], 0)\n",
    "qc.rz(theta[7], 1)\n",
    "\n",
    "# Second entangling layer\n",
    "qc.cx(0, 1)\n",
    "\n",
    "# Third layer of Ry gates\n",
    "qc.ry(theta[8], 0)\n",
    "qc.ry(theta[9], 1)\n",
    "qc.rz(theta[10], 0)\n",
    "qc.rz(theta[11], 1)\n",
    "\n",
    "# Third entangling layer\n",
    "qc.cx(0, 1)\n",
    "\n",
    "# Fourth layer of Ry and Rz gates\n",
    "qc.ry(theta[12], 0)\n",
    "qc.ry(theta[13], 1)\n",
    "qc.rz(theta[14], 0)\n",
    "qc.rz(theta[15], 1)\n",
    "\n",
    "# Draw the circuit\n",
    "qc.draw('mpl')\n",
    "\n",
    "estimator = Estimator()\n",
    "\n",
    "res = minimize(\n",
    "        cost_func,\n",
    "        initial_params,\n",
    "        args=(qc, hamiltonian, estimator),\n",
    "        method=\"cobyla\",\n",
    "    )\n",
    "\n",
    "print(res)"
   ]
  },
  {
   "cell_type": "code",
   "execution_count": null,
   "metadata": {},
   "outputs": [],
   "source": []
  }
 ],
 "metadata": {
  "kernelspec": {
   "display_name": "base",
   "language": "python",
   "name": "python3"
  },
  "language_info": {
   "codemirror_mode": {
    "name": "ipython",
    "version": 3
   },
   "file_extension": ".py",
   "mimetype": "text/x-python",
   "name": "python",
   "nbconvert_exporter": "python",
   "pygments_lexer": "ipython3",
   "version": "3.11.5"
  }
 },
 "nbformat": 4,
 "nbformat_minor": 2
}
